{
 "cells": [
  {
   "cell_type": "code",
   "execution_count": 44,
   "metadata": {},
   "outputs": [
    {
     "name": "stdout",
     "output_type": "stream",
     "text": [
      "The autoreload extension is already loaded. To reload it, use:\n",
      "  %reload_ext autoreload\n"
     ]
    }
   ],
   "source": [
    "import pandas as pd\n",
    "import torch\n",
    "from torch import nn\n",
    "from torch.utils.data import Dataset, DataLoader\n",
    "from torch.nn.utils.rnn import pad_sequence\n",
    "from torch import optim\n",
    "from hydra.experimental import compose, initialize\n",
    "from omegaconf import DictConfig\n",
    "import numpy as np\n",
    "from collections import defaultdict\n",
    "from data.ATM.dataset import get_loader\n",
    "\n",
    "%load_ext autoreload\n",
    "%autoreload 2"
   ]
  },
  {
   "cell_type": "code",
   "execution_count": 45,
   "metadata": {},
   "outputs": [],
   "source": [
    "from RNNSM.rnnsm import RNNSM\n",
    "from RMTPP.rmtpp import RMTPP"
   ]
  },
  {
   "cell_type": "code",
   "execution_count": 29,
   "metadata": {},
   "outputs": [],
   "source": [
    "ds = ATMDataset('data/ATM/train_day.csv')\n",
    "data_loader = DataLoader(dataset=ds, batch_size=32, shuffle=True, collate_fn=pad_collate, drop_last=True)"
   ]
  },
  {
   "cell_type": "code",
   "execution_count": 48,
   "metadata": {},
   "outputs": [],
   "source": [
    "data_loader = get_loader()"
   ]
  },
  {
   "cell_type": "code",
   "execution_count": null,
   "metadata": {},
   "outputs": [],
   "source": [
    "initialize(config_path=\".\")"
   ]
  },
  {
   "cell_type": "code",
   "execution_count": 50,
   "metadata": {},
   "outputs": [],
   "source": [
    "cfg = compose(config_name=\"config.yaml\")"
   ]
  },
  {
   "cell_type": "code",
   "execution_count": 51,
   "metadata": {},
   "outputs": [],
   "source": [
    "def train_rmtpp(data_loader, model, cfg: DictConfig):\n",
    "    train_metrics = defaultdict(list)\n",
    "\n",
    "    for epoch in range(cfg.training.n_epochs):\n",
    "        print(f'Epoch {epoch+1}/{cfg.training.n_epochs}....')\n",
    "        losses = []\n",
    "        for times, events, lengths, _ in data_loader:\n",
    "            time_deltas = torch.cat([torch.zeros(times.shape[0], 1, times.shape[2]),\n",
    "                                     times[:, 1:] - times[:, :-1]],\n",
    "                                     dim=1)\n",
    "            o_t, y_t = model(events, time_deltas, lengths)\n",
    "            padding_mask = torch.isclose(times, torch.Tensor([0]))\n",
    "            ret_mask = ~padding_mask\n",
    "            loss = model.compute_loss(time_deltas, padding_mask, o_t, y_t[0], events)\n",
    "            loss.backward()\n",
    "            opt.step()\n",
    "            opt.zero_grad()\n",
    "            losses.append(loss.item())\n",
    "        train_metrics['loss'].append(np.mean(losses))\n",
    "        print(train_metrics['loss'][-1])\n",
    "    return train_metrics"
   ]
  },
  {
   "cell_type": "code",
   "execution_count": 52,
   "metadata": {},
   "outputs": [
    {
     "name": "stdout",
     "output_type": "stream",
     "text": [
      "Epoch 1/10....\n",
      "-1.6434604239035795\n",
      "Epoch 2/10....\n",
      "-2.316424532139555\n",
      "Epoch 3/10....\n",
      "-3.564129073569115\n",
      "Epoch 4/10....\n",
      "-2.143318919425315\n",
      "Epoch 5/10....\n",
      "-1.7213613061194724\n",
      "Epoch 6/10....\n",
      "-3.1691531754554587\n",
      "Epoch 7/10....\n",
      "-3.799747983191876\n",
      "Epoch 8/10....\n",
      "4072741699.8579564\n",
      "Epoch 9/10....\n",
      "5.232079488482881\n",
      "Epoch 10/10....\n",
      "1.7407105507210214\n"
     ]
    },
    {
     "data": {
      "text/plain": [
       "defaultdict(list,\n",
       "            {'loss': [-1.6434604239035795,\n",
       "              -2.316424532139555,\n",
       "              -3.564129073569115,\n",
       "              -2.143318919425315,\n",
       "              -1.7213613061194724,\n",
       "              -3.1691531754554587,\n",
       "              -3.799747983191876,\n",
       "              4072741699.8579564,\n",
       "              5.232079488482881,\n",
       "              1.7407105507210214]})"
      ]
     },
     "execution_count": 52,
     "metadata": {},
     "output_type": "execute_result"
    }
   ],
   "source": [
    "model = RMTPP(cfg.rmtpp)\n",
    "opt = optim.Adam(model.parameters(), lr=cfg.training.lr)\n",
    "train_rmtpp(data_loader, model, cfg)"
   ]
  },
  {
   "cell_type": "code",
   "execution_count": 39,
   "metadata": {},
   "outputs": [],
   "source": [
    "def train_rnnsm(data_loader, model, cfg: DictConfig):\n",
    "    train_metrics = defaultdict(list)\n",
    "\n",
    "    for epoch in range(cfg.training.n_epochs):\n",
    "        print(f'Epoch {epoch+1}/{cfg.training.n_epochs}....')\n",
    "        losses = []\n",
    "        for times, events, lengths, _ in data_loader:\n",
    "            time_deltas = torch.cat([torch.zeros(times.shape[0], 1, times.shape[2]),\n",
    "                                     times[:, 1:] - times[:, :-1]],\n",
    "                                     dim=1)\n",
    "            o_t = model(events, time_deltas, lengths)\n",
    "            padding_mask = torch.isclose(times, torch.Tensor([0]))\n",
    "            ret_mask = ~padding_mask\n",
    "            loss = model.compute_loss(time_deltas, padding_mask, ret_mask, o_t)\n",
    "            loss.backward()\n",
    "            opt.step()\n",
    "            opt.zero_grad()\n",
    "            losses.append(loss.item())\n",
    "        train_metrics['loss'].append(np.mean(losses))\n",
    "        print(train_metrics['loss'][-1])\n",
    "    return train_metrics"
   ]
  },
  {
   "cell_type": "code",
   "execution_count": 40,
   "metadata": {},
   "outputs": [
    {
     "name": "stdout",
     "output_type": "stream",
     "text": [
      "Epoch 1/10....\n",
      "-3.1207775065397962\n",
      "Epoch 2/10....\n",
      "-6.634248429156364\n",
      "Epoch 3/10....\n",
      "-7.0342806045045245\n",
      "Epoch 4/10....\n",
      "-7.286588881878143\n",
      "Epoch 5/10....\n",
      "-7.377609050020259\n",
      "Epoch 6/10....\n",
      "-7.448889072905195\n",
      "Epoch 7/10....\n",
      "-7.542163503930924\n",
      "Epoch 8/10....\n",
      "-7.602628535412728\n",
      "Epoch 9/10....\n",
      "-7.629863891195743\n",
      "Epoch 10/10....\n",
      "-7.657119903158634\n"
     ]
    },
    {
     "data": {
      "text/plain": [
       "defaultdict(list,\n",
       "            {'loss': [-3.1207775065397962,\n",
       "              -6.634248429156364,\n",
       "              -7.0342806045045245,\n",
       "              -7.286588881878143,\n",
       "              -7.377609050020259,\n",
       "              -7.448889072905195,\n",
       "              -7.542163503930924,\n",
       "              -7.602628535412728,\n",
       "              -7.629863891195743,\n",
       "              -7.657119903158634]})"
      ]
     },
     "execution_count": 40,
     "metadata": {},
     "output_type": "execute_result"
    }
   ],
   "source": [
    "model = RNNSM(cfg.rnnsm)\n",
    "opt = optim.Adam(model.parameters(), lr=cfg.training.lr)\n",
    "train_rnnsm(data_loader, model, cfg)"
   ]
  },
  {
   "cell_type": "code",
   "execution_count": null,
   "metadata": {},
   "outputs": [],
   "source": []
  },
  {
   "cell_type": "code",
   "execution_count": null,
   "metadata": {},
   "outputs": [],
   "source": []
  },
  {
   "cell_type": "code",
   "execution_count": null,
   "metadata": {},
   "outputs": [],
   "source": []
  }
 ],
 "metadata": {
  "kernelspec": {
   "display_name": "Python 3",
   "language": "python",
   "name": "python3"
  },
  "language_info": {
   "codemirror_mode": {
    "name": "ipython",
    "version": 3
   },
   "file_extension": ".py",
   "mimetype": "text/x-python",
   "name": "python",
   "nbconvert_exporter": "python",
   "pygments_lexer": "ipython3",
   "version": "3.8.5"
  }
 },
 "nbformat": 4,
 "nbformat_minor": 4
}
